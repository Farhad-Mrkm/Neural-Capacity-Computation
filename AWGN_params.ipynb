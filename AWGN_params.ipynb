{
  "nbformat": 4,
  "nbformat_minor": 0,
  "metadata": {
    "colab": {
      "name": "AWGN_params.ipynb",
      "provenance": [],
      "collapsed_sections": []
    },
    "kernelspec": {
      "name": "python3",
      "display_name": "Python 3"
    },
    "language_info": {
      "name": "python"
    }
  },
  "cells": [
    {
      "cell_type": "code",
      "metadata": {
        "id": "pQbz-94G64yj"
      },
      "source": [
        "critic_params = {\n",
        "    'dim': 1,\n",
        "    'layers': 4,\n",
        "    'embed_dim': 32,\n",
        "    'hidden_dim': 64,\n",
        "    'activation': 'relu',\n",
        "    'ref_batch_factor': 10,\n",
        "    'learning_rate': 0.00002\n",
        "}\n",
        "\n",
        "nit_params = {'dim': 1,\n",
        "              'layers': 5,\n",
        "              'hidden_dim': 64,\n",
        "              'activation': 'relu',\n",
        "              'tx_power': 1.0,\n",
        "              'learning_rate': 0.0001,\n",
        "              'peak_amp': None }\n",
        "\n"
      ],
      "execution_count": null,
      "outputs": []
    }
  ]
}